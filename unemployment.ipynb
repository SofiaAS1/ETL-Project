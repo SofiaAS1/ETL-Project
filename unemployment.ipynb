{
 "cells": [
  {
   "cell_type": "code",
   "execution_count": 3,
   "metadata": {},
   "outputs": [],
   "source": [
    "import pandas as pd\n",
    "from sqlalchemy import create_engine\n",
    "from datetime import date, timedelta\n",
    "from config import password"
   ]
  },
  {
   "cell_type": "code",
   "execution_count": 6,
   "metadata": {},
   "outputs": [],
   "source": [
    "#importing all csv datasets\n",
    "ny_une = \"csv/original/unemploymentnycounty.csv\"\n",
    "cal_une = \"csv/original/unemploymentcalcounty.csv\"\n",
    "fl_une = \"csv/original/FLunemploymentcountyjune.csv\""
   ]
  },
  {
   "cell_type": "code",
   "execution_count": 7,
   "metadata": {},
   "outputs": [],
   "source": [
    "#changing csvs to panda dataframes\n",
    "ny_df = pd.read_csv(ny_une)\n",
    "fl_df = pd.read_csv(fl_une)\n",
    "cal_df = pd.read_csv(cal_une)"
   ]
  },
  {
   "cell_type": "code",
   "execution_count": 13,
   "metadata": {},
   "outputs": [
    {
     "data": {
      "text/plain": [
       "62"
      ]
     },
     "execution_count": 13,
     "metadata": {},
     "output_type": "execute_result"
    }
   ],
   "source": [
    "#create NY df and clean it\n",
    "ny_df2 = ny_df.rename(columns = {\"RANK\" : 'Unemployment Rank', \"COUNTY\":  'County', \"RATE\": 'Unemployment_Rate'})\n",
    "ny_df2 = ny_df2.drop(columns = ['Unemployment Rank'])\n",
    "ny_df2['Year'] = \"2020\"\n",
    "ny_df2['Month'] = \"June\"\n",
    "ny_df2[\"State\"] = \"NY\"\n",
    "ny_df2.reset_index()\n",
    "ny_final = ny_df2.set_index('Month')\n",
    "ny_final.dropna()\n",
    "#checking to make sure all county values are unique and not duplitcates\n",
    "ny_final.County.nunique()\n",
    "ny_final.County.count()\n",
    "# ny_final.to_csv('ny_final.csv')"
   ]
  },
  {
   "cell_type": "code",
   "execution_count": 18,
   "metadata": {},
   "outputs": [
    {
     "data": {
      "text/plain": [
       "73"
      ]
     },
     "execution_count": 18,
     "metadata": {},
     "output_type": "execute_result"
    }
   ],
   "source": [
    "fl_df.head()\n",
    "#clean up columns\n",
    "fl_df2 = fl_df.drop(['LABOR', 'EMPLOY-','UNEMPLOYMENT'], axis=1)\n",
    "fl_df3 = fl_df2.rename(columns = {\"Unnamed: 0\": \"County\", \"Unnamed: 4\": \"Unemployment_Rate\"})\n",
    "fl_df_final = fl_df3.drop([0, 0])\n",
    "fl_df_final.reset_index()\n",
    "#set columns to clarify month and year\n",
    "fl_df_final[\"Year\"] = \"2020\"\n",
    "fl_df_final[\"Month\"] = \"June\"\n",
    "fl_df_final[\"State\"] = \"FL\"\n",
    "fl_final = fl_df_final.set_index('Month')\n",
    "fl_final.dropna()\n",
    "\n",
    "\n",
    "fl_final['Unemployment_Rate'] = fl_final['Unemployment_Rate'].str.rstrip('%').astype('float') \n",
    "#checking to make sure all county values are unique and not duplitcates\n",
    "fl_final.County.nunique()\n",
    "fl_final.County.count()\n",
    "# fl_final.to_csv('fl_final.csv')"
   ]
  },
  {
   "cell_type": "code",
   "execution_count": 30,
   "metadata": {},
   "outputs": [
    {
     "data": {
      "text/plain": [
       "2072"
      ]
     },
     "execution_count": 30,
     "metadata": {},
     "output_type": "execute_result"
    }
   ],
   "source": [
    "cal_df.head()\n",
    "cal_df2 = cal_df.drop(columns = ['Area Type ','Seasonally Adjusted (Y/N) ','Status (Preliminary / Final) ','Unemployment ','Employment ','Labor Force'])\n",
    "cal_df2['Date'] = pd.to_datetime(cal_df2['Date'])\n",
    "\n",
    "#get only month of june\n",
    "res = cal_df2[~(cal_df2['Date'] <= '2020-05-31')]\n",
    "#continue cleaning: drop only 'california' from country and renaming columns.\n",
    "cal_df_final = res\n",
    "cal_df_final\n",
    "cal_tidy = cal_df_final.rename(columns = {'Area Name ': 'County_CA', 'Unemployment Rate': 'Unemployment_Rate'}, inplace = False)\n",
    "cal_final= cal_tidy[cal_tidy.County_CA != 'California']\n",
    "cal_final = cal_final.rename(columns = {'County_CA': 'County, CA'}, inplace = False)\n",
    "#fix County column so only county name appears\n",
    "cal_final = cal_final.drop(columns = ['Date'])\n",
    "cal_final[\"County, CA\"]= cal_final[\"County, CA\"].str.split(\",\", n = 1, expand = True)\n",
    "cal_final[\"State\"] = \"CA\"\n",
    "cal_final = cal_final.rename(columns = {'County, CA':  'County'}, inplace= False)\n",
    "cal_final = cal_final.set_index('Month')\n",
    "cal_final = cal_final.rename(columns = {'Unemployment Rate ': 'Unemployment_Rate'})\n",
    "\n",
    "cal_final.dropna()\n",
    "# cal_final.to_csv('cal_final.csv')\n",
    "list_of_counties = cal_final['County'].to_list()\n",
    "#checking to make sure all county values are unique and not duplitcates (California DID have duplicate values due to a CDP designation, upon further research this is\n",
    "#due to the Census program in California)\n",
    "cal_final.County.nunique()\n",
    "cal_final.County.count()"
   ]
  },
  {
   "cell_type": "code",
   "execution_count": 7,
   "metadata": {},
   "outputs": [
    {
     "data": {
      "text/html": [
       "<div>\n",
       "<style scoped>\n",
       "    .dataframe tbody tr th:only-of-type {\n",
       "        vertical-align: middle;\n",
       "    }\n",
       "\n",
       "    .dataframe tbody tr th {\n",
       "        vertical-align: top;\n",
       "    }\n",
       "\n",
       "    .dataframe thead th {\n",
       "        text-align: right;\n",
       "    }\n",
       "</style>\n",
       "<table border=\"1\" class=\"dataframe\">\n",
       "  <thead>\n",
       "    <tr style=\"text-align: right;\">\n",
       "      <th></th>\n",
       "      <th>County</th>\n",
       "      <th>Year</th>\n",
       "      <th>Unemployment_Rate</th>\n",
       "      <th>State</th>\n",
       "      <th>Year</th>\n",
       "      <th>Month</th>\n",
       "    </tr>\n",
       "  </thead>\n",
       "  <tbody>\n",
       "    <tr>\n",
       "      <th>June</th>\n",
       "      <td>Alameda County</td>\n",
       "      <td>2020.0</td>\n",
       "      <td>0.135</td>\n",
       "      <td>CA</td>\n",
       "      <td>2020</td>\n",
       "      <td>June</td>\n",
       "    </tr>\n",
       "    <tr>\n",
       "      <th>June</th>\n",
       "      <td>Alpine County</td>\n",
       "      <td>2020.0</td>\n",
       "      <td>0.189</td>\n",
       "      <td>CA</td>\n",
       "      <td>2020</td>\n",
       "      <td>June</td>\n",
       "    </tr>\n",
       "    <tr>\n",
       "      <th>June</th>\n",
       "      <td>Amador County</td>\n",
       "      <td>2020.0</td>\n",
       "      <td>0.127</td>\n",
       "      <td>CA</td>\n",
       "      <td>2020</td>\n",
       "      <td>June</td>\n",
       "    </tr>\n",
       "    <tr>\n",
       "      <th>June</th>\n",
       "      <td>Butte County</td>\n",
       "      <td>2020.0</td>\n",
       "      <td>0.122</td>\n",
       "      <td>CA</td>\n",
       "      <td>2020</td>\n",
       "      <td>June</td>\n",
       "    </tr>\n",
       "    <tr>\n",
       "      <th>June</th>\n",
       "      <td>Calaveras County</td>\n",
       "      <td>2020.0</td>\n",
       "      <td>0.11</td>\n",
       "      <td>CA</td>\n",
       "      <td>2020</td>\n",
       "      <td>June</td>\n",
       "    </tr>\n",
       "    <tr>\n",
       "      <th>...</th>\n",
       "      <td>...</td>\n",
       "      <td>...</td>\n",
       "      <td>...</td>\n",
       "      <td>...</td>\n",
       "      <td>...</td>\n",
       "      <td>...</td>\n",
       "    </tr>\n",
       "    <tr>\n",
       "      <th>67</th>\n",
       "      <td>New York County</td>\n",
       "      <td>NaN</td>\n",
       "      <td>16</td>\n",
       "      <td>NY</td>\n",
       "      <td>2020</td>\n",
       "      <td>June</td>\n",
       "    </tr>\n",
       "    <tr>\n",
       "      <th>68</th>\n",
       "      <td>Richmond County</td>\n",
       "      <td>NaN</td>\n",
       "      <td>18.1</td>\n",
       "      <td>NY</td>\n",
       "      <td>2020</td>\n",
       "      <td>June</td>\n",
       "    </tr>\n",
       "    <tr>\n",
       "      <th>69</th>\n",
       "      <td>Kings County</td>\n",
       "      <td>NaN</td>\n",
       "      <td>20.5</td>\n",
       "      <td>NY</td>\n",
       "      <td>2020</td>\n",
       "      <td>June</td>\n",
       "    </tr>\n",
       "    <tr>\n",
       "      <th>70</th>\n",
       "      <td>Queens County</td>\n",
       "      <td>NaN</td>\n",
       "      <td>21.8</td>\n",
       "      <td>NY</td>\n",
       "      <td>2020</td>\n",
       "      <td>June</td>\n",
       "    </tr>\n",
       "    <tr>\n",
       "      <th>71</th>\n",
       "      <td>Bronx County</td>\n",
       "      <td>NaN</td>\n",
       "      <td>24.7</td>\n",
       "      <td>NY</td>\n",
       "      <td>2020</td>\n",
       "      <td>June</td>\n",
       "    </tr>\n",
       "  </tbody>\n",
       "</table>\n",
       "<p>2226 rows × 6 columns</p>\n",
       "</div>"
      ],
      "text/plain": [
       "                County   Year  Unemployment_Rate State  Year Month\n",
       "June    Alameda County  2020.0             0.135    CA  2020  June\n",
       "June     Alpine County  2020.0             0.189    CA  2020  June\n",
       "June     Amador County  2020.0             0.127    CA  2020  June\n",
       "June      Butte County  2020.0             0.122    CA  2020  June\n",
       "June  Calaveras County  2020.0              0.11    CA  2020  June\n",
       "...                ...     ...               ...   ...   ...   ...\n",
       "67     New York County     NaN                16    NY  2020  June\n",
       "68     Richmond County     NaN              18.1    NY  2020  June\n",
       "69        Kings County     NaN              20.5    NY  2020  June\n",
       "70       Queens County     NaN              21.8    NY  2020  June\n",
       "71        Bronx County     NaN              24.7    NY  2020  June\n",
       "\n",
       "[2226 rows x 6 columns]"
      ]
     },
     "execution_count": 7,
     "metadata": {},
     "output_type": "execute_result"
    }
   ],
   "source": [
    "\n",
    "#create table that contains all information on NY, FL, and CA\n",
    "final = pd.merge(cal_final,fl_final, on ='Month', how='outer')\n",
    "\n",
    "concatenated = pd.concat([cal_final, fl_df_final, ny_df2])\n",
    "\n",
    "\n",
    "concatenated[\"Month\"] = \"June\"\n",
    "concatenated[\"Year\"] = \"2020\"\n",
    "concatenated.set_index('Month')\n",
    "df = concatenated.copy()\n",
    "# df.to_csv('fulllist.csv')\n",
    "df\n"
   ]
  },
  {
   "cell_type": "code",
   "execution_count": 13,
   "metadata": {},
   "outputs": [],
   "source": [
    "#connect to postgres\n",
    "engine = create_engine(password)\n",
    "connection = engine.connect()"
   ]
  },
  {
   "cell_type": "code",
   "execution_count": 14,
   "metadata": {},
   "outputs": [
    {
     "data": {
      "text/plain": [
       "['ca', 'base_table', 'fl', 'ny']"
      ]
     },
     "execution_count": 14,
     "metadata": {},
     "output_type": "execute_result"
    }
   ],
   "source": [
    "engine.table_names()"
   ]
  },
  {
   "cell_type": "code",
   "execution_count": 67,
   "metadata": {},
   "outputs": [
    {
     "data": {
      "text/html": [
       "<div>\n",
       "<style scoped>\n",
       "    .dataframe tbody tr th:only-of-type {\n",
       "        vertical-align: middle;\n",
       "    }\n",
       "\n",
       "    .dataframe tbody tr th {\n",
       "        vertical-align: top;\n",
       "    }\n",
       "\n",
       "    .dataframe thead th {\n",
       "        text-align: right;\n",
       "    }\n",
       "</style>\n",
       "<table border=\"1\" class=\"dataframe\">\n",
       "  <thead>\n",
       "    <tr style=\"text-align: right;\">\n",
       "      <th></th>\n",
       "      <th>month</th>\n",
       "      <th>county</th>\n",
       "      <th>unemployment_rate</th>\n",
       "      <th>year</th>\n",
       "      <th>state</th>\n",
       "      <th>id_fl</th>\n",
       "    </tr>\n",
       "  </thead>\n",
       "  <tbody>\n",
       "    <tr>\n",
       "      <th>4</th>\n",
       "      <td>June</td>\n",
       "      <td>Brevard County</td>\n",
       "      <td>8.2</td>\n",
       "      <td>2020</td>\n",
       "      <td>FL</td>\n",
       "      <td>5</td>\n",
       "    </tr>\n",
       "  </tbody>\n",
       "</table>\n",
       "</div>"
      ],
      "text/plain": [
       "  month          county  unemployment_rate  year state  id_fl\n",
       "4  June  Brevard County                8.2  2020    FL      5"
      ]
     },
     "execution_count": 67,
     "metadata": {},
     "output_type": "execute_result"
    }
   ],
   "source": [
    "fl = pd.read_sql_query('select * from fl', con=engine).head()\n",
    "fl.loc[fl['unemployment_rate'] > 7.0]"
   ]
  },
  {
   "cell_type": "code",
   "execution_count": 71,
   "metadata": {},
   "outputs": [
    {
     "data": {
      "text/html": [
       "<div>\n",
       "<style scoped>\n",
       "    .dataframe tbody tr th:only-of-type {\n",
       "        vertical-align: middle;\n",
       "    }\n",
       "\n",
       "    .dataframe tbody tr th {\n",
       "        vertical-align: top;\n",
       "    }\n",
       "\n",
       "    .dataframe thead th {\n",
       "        text-align: right;\n",
       "    }\n",
       "</style>\n",
       "<table border=\"1\" class=\"dataframe\">\n",
       "  <thead>\n",
       "    <tr style=\"text-align: right;\">\n",
       "      <th></th>\n",
       "      <th>month</th>\n",
       "      <th>county</th>\n",
       "      <th>unemployment_rate</th>\n",
       "      <th>year</th>\n",
       "      <th>state</th>\n",
       "      <th>id_ny</th>\n",
       "    </tr>\n",
       "  </thead>\n",
       "  <tbody>\n",
       "    <tr>\n",
       "      <th>3</th>\n",
       "      <td>June</td>\n",
       "      <td>Columbia County</td>\n",
       "      <td>8.8</td>\n",
       "      <td>2020</td>\n",
       "      <td>NY</td>\n",
       "      <td>4</td>\n",
       "    </tr>\n",
       "    <tr>\n",
       "      <th>4</th>\n",
       "      <td>June</td>\n",
       "      <td>Tompkins County</td>\n",
       "      <td>8.9</td>\n",
       "      <td>2020</td>\n",
       "      <td>NY</td>\n",
       "      <td>5</td>\n",
       "    </tr>\n",
       "  </tbody>\n",
       "</table>\n",
       "</div>"
      ],
      "text/plain": [
       "  month           county  unemployment_rate  year state  id_ny\n",
       "3  June  Columbia County                8.8  2020    NY      4\n",
       "4  June  Tompkins County                8.9  2020    NY      5"
      ]
     },
     "execution_count": 71,
     "metadata": {},
     "output_type": "execute_result"
    }
   ],
   "source": [
    "ny = pd.read_sql_query('select * from ny', con=engine).head()\n",
    "ny.loc[fl['unemployment_rate'] >= 7.0]"
   ]
  },
  {
   "cell_type": "code",
   "execution_count": 60,
   "metadata": {},
   "outputs": [
    {
     "data": {
      "text/html": [
       "<div>\n",
       "<style scoped>\n",
       "    .dataframe tbody tr th:only-of-type {\n",
       "        vertical-align: middle;\n",
       "    }\n",
       "\n",
       "    .dataframe tbody tr th {\n",
       "        vertical-align: top;\n",
       "    }\n",
       "\n",
       "    .dataframe thead th {\n",
       "        text-align: right;\n",
       "    }\n",
       "</style>\n",
       "<table border=\"1\" class=\"dataframe\">\n",
       "  <thead>\n",
       "    <tr style=\"text-align: right;\">\n",
       "      <th></th>\n",
       "      <th>month</th>\n",
       "      <th>county</th>\n",
       "      <th>year</th>\n",
       "      <th>unemployment_rate</th>\n",
       "      <th>state</th>\n",
       "      <th>id_cali</th>\n",
       "    </tr>\n",
       "  </thead>\n",
       "  <tbody>\n",
       "    <tr>\n",
       "      <th>0</th>\n",
       "      <td>June</td>\n",
       "      <td>Alameda County</td>\n",
       "      <td>2020.0</td>\n",
       "      <td>13.5</td>\n",
       "      <td>CA</td>\n",
       "      <td>1</td>\n",
       "    </tr>\n",
       "    <tr>\n",
       "      <th>1</th>\n",
       "      <td>June</td>\n",
       "      <td>Alpine County</td>\n",
       "      <td>2020.0</td>\n",
       "      <td>18.9</td>\n",
       "      <td>CA</td>\n",
       "      <td>2</td>\n",
       "    </tr>\n",
       "    <tr>\n",
       "      <th>2</th>\n",
       "      <td>June</td>\n",
       "      <td>Amador County</td>\n",
       "      <td>2020.0</td>\n",
       "      <td>12.7</td>\n",
       "      <td>CA</td>\n",
       "      <td>3</td>\n",
       "    </tr>\n",
       "    <tr>\n",
       "      <th>3</th>\n",
       "      <td>June</td>\n",
       "      <td>Butte County</td>\n",
       "      <td>2020.0</td>\n",
       "      <td>12.2</td>\n",
       "      <td>CA</td>\n",
       "      <td>4</td>\n",
       "    </tr>\n",
       "    <tr>\n",
       "      <th>4</th>\n",
       "      <td>June</td>\n",
       "      <td>Calaveras County</td>\n",
       "      <td>2020.0</td>\n",
       "      <td>11.0</td>\n",
       "      <td>CA</td>\n",
       "      <td>5</td>\n",
       "    </tr>\n",
       "  </tbody>\n",
       "</table>\n",
       "</div>"
      ],
      "text/plain": [
       "  month            county    year  unemployment_rate state  id_cali\n",
       "0  June    Alameda County  2020.0               13.5    CA        1\n",
       "1  June     Alpine County  2020.0               18.9    CA        2\n",
       "2  June     Amador County  2020.0               12.7    CA        3\n",
       "3  June      Butte County  2020.0               12.2    CA        4\n",
       "4  June  Calaveras County  2020.0               11.0    CA        5"
      ]
     },
     "execution_count": 60,
     "metadata": {},
     "output_type": "execute_result"
    }
   ],
   "source": [
    "ca = pd.read_sql_query('select * from ca', con=engine).head()\n",
    "ca\n",
    "#example query\n",
    "ca.loc[ca['unemployment_rate'] >= 10.0]\n"
   ]
  },
  {
   "cell_type": "code",
   "execution_count": 61,
   "metadata": {},
   "outputs": [
    {
     "data": {
      "text/html": [
       "<div>\n",
       "<style scoped>\n",
       "    .dataframe tbody tr th:only-of-type {\n",
       "        vertical-align: middle;\n",
       "    }\n",
       "\n",
       "    .dataframe tbody tr th {\n",
       "        vertical-align: top;\n",
       "    }\n",
       "\n",
       "    .dataframe thead th {\n",
       "        text-align: right;\n",
       "    }\n",
       "</style>\n",
       "<table border=\"1\" class=\"dataframe\">\n",
       "  <thead>\n",
       "    <tr style=\"text-align: right;\">\n",
       "      <th></th>\n",
       "      <th>year</th>\n",
       "      <th>month</th>\n",
       "      <th>state</th>\n",
       "      <th>county</th>\n",
       "      <th>unemployment_rate</th>\n",
       "      <th>id_unemployment</th>\n",
       "    </tr>\n",
       "  </thead>\n",
       "  <tbody>\n",
       "    <tr>\n",
       "      <th>1</th>\n",
       "      <td>2020</td>\n",
       "      <td>June</td>\n",
       "      <td>CA</td>\n",
       "      <td>Alpine County</td>\n",
       "      <td>18.9</td>\n",
       "      <td>2</td>\n",
       "    </tr>\n",
       "  </tbody>\n",
       "</table>\n",
       "</div>"
      ],
      "text/plain": [
       "   year month state         county  unemployment_rate  id_unemployment\n",
       "1  2020  June    CA  Alpine County               18.9                2"
      ]
     },
     "execution_count": 61,
     "metadata": {},
     "output_type": "execute_result"
    }
   ],
   "source": [
    "base = pd.read_sql_query('select * from base_table', con=engine).head()\n",
    "base.loc[ca['unemployment_rate'] >= 16.0]"
   ]
  },
  {
   "cell_type": "code",
   "execution_count": null,
   "metadata": {},
   "outputs": [],
   "source": []
  }
 ],
 "metadata": {
  "kernelspec": {
   "display_name": "Python 3",
   "language": "python",
   "name": "python3"
  },
  "language_info": {
   "codemirror_mode": {
    "name": "ipython",
    "version": 3
   },
   "file_extension": ".py",
   "mimetype": "text/x-python",
   "name": "python",
   "nbconvert_exporter": "python",
   "pygments_lexer": "ipython3",
   "version": "3.7.6"
  }
 },
 "nbformat": 4,
 "nbformat_minor": 4
}
